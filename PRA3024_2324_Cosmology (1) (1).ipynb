{
 "cells": [
  {
   "cell_type": "markdown",
   "metadata": {
    "id": "TkdruF2bYl5j"
   },
   "source": [
    "# <font color='deepskyblue'>Cosmology MCMC notebook </font>"
   ]
  },
  {
   "cell_type": "markdown",
   "metadata": {
    "id": "t0SazaVif4pl"
   },
   "source": [
    "## <font color='deepskyblue'>Preliminaries</font>"
   ]
  },
  {
   "cell_type": "code",
   "execution_count": 1,
   "metadata": {
    "colab": {
     "base_uri": "https://localhost:8080/",
     "height": 35
    },
    "id": "y6hcXmMbhbMA",
    "outputId": "a6ea4f5d-fd41-48bf-e6c8-74d8cb2b280c",
    "scrolled": true
   },
   "outputs": [
    {
     "data": {
      "text/plain": [
       "'%.3f'"
      ]
     },
     "execution_count": 1,
     "metadata": {},
     "output_type": "execute_result"
    }
   ],
   "source": [
    "# Install required packages (if not available on server)\n",
    "try:\n",
    "  import getdist\n",
    "except:\n",
    "  !pip install getdist\n",
    "  import getdist\n",
    "\n",
    "# Load required packages\n",
    "import numpy as np\n",
    "import matplotlib.pyplot as plt\n",
    "%matplotlib inline\n",
    "import scipy.integrate as integrate\n",
    "\n",
    "# import pylab\n",
    "import getdist, IPython, time\n",
    "from numpy import random\n",
    "\n",
    "# from IPython.display import Image\n",
    "from getdist import plots, MCSamples, loadMCSamples\n",
    "\n",
    "# just for printing! calculations should be performed with machine precision\n",
    "%precision 3"
   ]
  },
  {
   "cell_type": "markdown",
   "metadata": {
    "id": "ayxOF90lVqKY"
   },
   "source": [
    "\n",
    "<font color='tomato'>\n",
    "(NB: The equations you'll directly need to build your code are those $\\boxed{\\text{with a box around}}$)\n",
    "</font>\n",
    "\n",
    "## <font color='deepskyblue'>The $\\Lambda$CDM Model</font>\n",
    "\n",
    "The Lambda-Cold-Dark-Matter ($\\Lambda$CDM) Model is our concordance cosmological model. It postulates a Universe that behaves according to **General Relativity**, filled with **baryons** (protons, neutrons - the stuff we and stars are made of!), **Cold Dark Matter (CDM)** and a **Cosmological Constant** $\\Lambda$.\n",
    "\n",
    "The expansion of the Universe is best described in terms of the **scale factor** $a$ (the \"radius\" of the Universe, conventionally set to 1 today) and the **Hubble rate** $H$. While photons (light rays) travel in the expanding universe they get redshifted, and this redshift is directly related to the size of the Universe when the photon was emitted compared to today:\n",
    "\n",
    "$$ \\frac{\\lambda_{\\rm obs}}{\\lambda_{\\rm em}} \\equiv 1 + z_{\\rm em} = \\frac{1}{a_{\\rm em}}$$\n",
    "\n",
    "\n",
    "In the $\\Lambda$CDM model (and at late enough times), this additionally simplifies to\n",
    "\n",
    "$$\n",
    "\\begin{gathered}\n",
    "\\boxed{\n",
    "H^2 = H_0^2\\left[\\Omega_\\Lambda + \\Omega_m (1+z)^3 + \\Omega_k (1+z)^2\\right]\n",
    "}\n",
    "\\\\\n",
    "\\boxed{\n",
    "\\Omega_m + \\Omega_\\Lambda + \\Omega_k = 1\n",
    "}\n",
    "\\end{gathered}\n",
    "\\tag{1}\n",
    "$$\n",
    "\n",
    "$H_0$ is the value of the Hubble rate *today*, and the parameters $\\Omega_m$, $\\Omega_\\Lambda$ and $\\Omega_k$ are dimensionless quantities indicating how much of the present expansion of the Universe is due to (non-relativistic) matter, cosmological constant $\\Lambda$, and spatial curvature $k$. Note that the three $\\Omega$'s are *not independent* (their sum is 1) and that we grouped together the contribution of baryons and CDM,\n",
    "\n",
    "$$\n",
    "\\Omega_m = \\Omega_{\\rm CDM} + \\Omega_{\\rm b}\n",
    "$$\n",
    "\n",
    "and that we have evidence that independent evidence that $\\Omega_b \\approx 5$\\%. NB: only $\\Omega_m \\geq 0$ makes physical sense, while in principle both $\\Omega_\\Lambda$ and $\\Omega_k$ can be negative.\n",
    "\n",
    "The present Hubble rate is conventionally parametrised in terms of the dimensionless $h$:\n",
    "\n",
    "$$\n",
    "\\boxed{\n",
    "  H_0 \\equiv 100\\,h\\,\\frac{\\rm km}{\\rm s\\,Mpc}\n",
    "}\n",
    "\\tag{2}\n",
    "$$\n",
    "\n",
    "where Mpc = Megaparsec and [parsec](https://en.wikipedia.org/wiki/Parsec) equals to about $3.26$ light years or $3.086 \\cdot 10^{16}$ m.\n",
    "\n",
    "In essence, these equations give us the relation between *what exists in the Universe* and *how the Universe expanded*. Measure one, I can tell you the other. This is precisely what we aim to do!\n",
    "\n",
    "Time to define the function $H(z)$. Don't forget to include the useful parameters as arguments of the function, and to define `parsec`."
   ]
  },
  {
   "cell_type": "code",
   "execution_count": 2,
   "metadata": {
    "id": "CFIYCrH2XccJ"
   },
   "outputs": [],
   "source": [
    "# Hubble rate: look at equations (1) and (2) for the definition!\n",
    "def Hubble(z, OmegaL, OmegaM, H0):\n",
    "    OmegaK = 1. - OmegaL - OmegaM\n",
    "    H = (H0)*np.sqrt(OmegaL + OmegaM + (1+z)**3 + OmegaK * (1+z)**2)\n",
    "    return H\n",
    "    "
   ]
  },
  {
   "cell_type": "code",
   "execution_count": 3,
   "metadata": {},
   "outputs": [
    {
     "data": {
      "image/png": "[encoded data removed]",
      "text/plain": [
       "<Figure size 640x480 with 1 Axes>"
      ]
     },
     "metadata": {},
     "output_type": "display_data"
    }
   ],
   "source": [
    "OmegaL = 0.7\n",
    "OmegaM = 0.3\n",
    "H0 = 0.70\n",
    "\n",
    "zs = np.arange(0.1,2,0.1) \n",
    "Hs = []\n",
    "for z in zs:\n",
    "    Hs += [Hubble(z, OmegaL, OmegaM, H0)]\n",
    "\n",
    "plt.scatter(zs, Hs)\n",
    "plt.xlabel('z')\n",
    "plt.ylabel('H(z)')\n",
    "plt.show()"
   ]
  },
  {
   "cell_type": "markdown",
   "metadata": {
    "id": "NNm-m0auXccK"
   },
   "source": [
    "## <font color='deepskyblue'>Supernovae Ia</font>\n",
    "\n",
    "In order to track the expansion of the Universe, we will look at Supernovae type Ia observations. SNIa are formed when a *white dwarf* accretes matter from a companion until it reaches a critical mass of about $1.44 M_\\odot$ (solar masses), after which it explodes **at always the same luminosity** $L_{\\rm SN}$. Therefore, the observed [magnitude](https://en.wikipedia.org/wiki/Magnitude_(astronomy)) is only a function of their [**luminosity distance**](https://en.wikipedia.org/wiki/Distance_measures_(cosmology)) from Earth, defined as the ratio of the intrinsic luminosity $L_{\\rm SNIa}$ and the measured *surface brightness* $\\Phi$ (energy per unit time per unit area)\n",
    "\n",
    "$$ d_L\\equiv \\frac{L_{\\rm SN}}{4\\pi \\Phi} $$\n",
    "\n",
    "We can express the luminosity distance in terms of the Hubble rate:\n",
    "\n",
    "$$\n",
    "\\boxed{\n",
    "d_L(z) = \\frac{c}{H_0}(1+z) \\times\n",
    "\\begin{cases}\n",
    "    \\cfrac{1}{\\sqrt{\\Omega_k}} \\,\\sinh\\left(\\sqrt{\\Omega_k}\\,D(z)\\right) & \\Omega_k > 0\n",
    "    \\\\[.5em]\n",
    "    D(z) & \\Omega_k = 0\n",
    "    \\\\[.5em]\n",
    "    \\cfrac{1}{\\sqrt{-\\Omega_k}} \\,\\sin\\left(\\sqrt{-\\Omega_k}\\,D(z)\\right) & \\Omega_k < 0\n",
    "\\end{cases}\n",
    "\\qquad\\qquad\n",
    "D(z) \\equiv H_0\\int_0^z \\frac{{\\rm d}Z}{H(Z)}\n",
    "}\n",
    "\\tag{3}\n",
    "$$\n",
    "\n",
    "where $c$ is the speed of light: $c \\simeq 2.998 \\cdot 10^{5}$ km/s.\n",
    "\n",
    "Clearly, there exists a relation between $d_L(z)$ and $H(z)$, so the luminosity distance is a useful measure of the Universe expansion history.\n",
    "In practice, however, the actual observable for [Supernovae Type Ia](https://en.wikipedia.org/wiki/Type_Ia_supernova) (or SNIa) is the [distance modulus](https://en.wikipedia.org/wiki/Distance_modulus) $\\mu$, defined as the difference between the *apparent magnitude* $m$ and the *absolute magnitude* $M$:\n",
    "\n",
    "$$\n",
    "\\boxed{\n",
    "\\mu(z) \\equiv m(z) - M \\equiv 5 \\log_{10} \\frac{d_L(z)}{10\\,\\text{pc}}\n",
    "}\n",
    "\\tag{4}\n",
    "$$\n",
    "\n",
    "We can create the function `dL(z, h, Omega_m, Omega_Lambda)`. You can also pass the function `Hubble` as an argument: `dL(z, Hubble, Omega_m, Omega_Lambda)`. Additionally, you can create $D(z)$ for your convenience.\n",
    "\n",
    "Note that you need to integrate the function $H(z)$, so write your own quick-and-easy numerical integrator, for example implementing the [trapezoidal rule](https://en.wikipedia.org/wiki/Trapezoidal_rule) or your favourite alternative, or [look up the pre-written methods](https://docs.scipy.org/doc/scipy/tutorial/integrate.html). Make sure it returns $d_L$ in parsecs and that it uses $H_0$ measured in units of 100 km/s/Mpc (which we called $h$)."
   ]
  },
  {
   "cell_type": "code",
   "execution_count": 4,
   "metadata": {
    "colab": {
     "base_uri": "https://localhost:8080/",
     "height": 34
    },
    "id": "QAwegy3UXccK",
    "outputId": "d9837fe2-b64c-492e-b689-a7e8ee3d1af1"
   },
   "outputs": [],
   "source": [
    "SPEED_OF_LIGHT = 2.998e5 # <--- Choose your favourite units, but make sure you're consistent!\n",
    "\n",
    "\n",
    "def D(z, OmegaL, OmegaM, H0):\n",
    "    return H0*integrate.quad(lambda x:1/Hubble(x, OmegaL, OmegaM, H0), 0, z)[0]\n",
    "\n",
    "def dL(z, OmegaL, OmegaM, H0): \n",
    "    OmegaK = 1. - OmegaL - OmegaM\n",
    "    Dz = D(z, OmegaL, OmegaM, H0)\n",
    "    if (OmegaK > 0):\n",
    "        dL = 1/np.sqrt(OmegaK) * np.sinh(np.sqrt(OmegaK) * Dz)\n",
    "    if (OmegaK == 0):\n",
    "        dL = Dz\n",
    "    if (OmegaK < 0):\n",
    "        dL = 1/np.sqrt(-OmegaK) * np.sin(np.sqrt(-OmegaK) * Dz)\n",
    "\n",
    "    dL = 10.**4*SPEED_OF_LIGHT / H0 * (1+z) * dL\n",
    "    \n",
    "    return dL \n",
    "\n",
    "def mu(z, OmegaL, OmegaM, H0): # distance modulus -- use eq.(4)\n",
    "    return 5*np.log10(dL(z, OmegaL, OmegaM, H0)/10)\n",
    "\n"
   ]
  },
  {
   "cell_type": "code",
   "execution_count": 5,
   "metadata": {},
   "outputs": [
    {
     "data": {
      "image/png": "[encoded data removed]",
      "text/plain": [
       "<Figure size 640x480 with 1 Axes>"
      ]
     },
     "metadata": {},
     "output_type": "display_data"
    }
   ],
   "source": [
    "OmegaL = 0.7\n",
    "OmegaM = 0.3\n",
    "H0 = 0.70\n",
    "\n",
    "zs = np.arange(0.1,2,0.1) \n",
    "dLs = []\n",
    "for z in zs:\n",
    "    dLs += [dL(z, OmegaL, OmegaM, H0)]\n",
    "\n",
    "plt.scatter(zs, dLs, marker = '8')\n",
    "plt.xlabel('z')\n",
    "plt.ylabel('dL(z)')\n",
    "plt.show()"
   ]
  },
  {
   "cell_type": "code",
   "execution_count": 6,
   "metadata": {},
   "outputs": [
    {
     "data": {
      "image/png": "[encoded data removed]",
      "text/plain": [
       "<Figure size 640x480 with 1 Axes>"
      ]
     },
     "metadata": {},
     "output_type": "display_data"
    }
   ],
   "source": [
    "OmegaL = 0.7\n",
    "OmegaM = 0.25\n",
    "H0 = 0.7\n",
    "\n",
    "zs = np.arange(0.1,2,0.05) \n",
    "mus = []\n",
    "for z in zs:\n",
    "    mus += [mu(z, OmegaL, OmegaM, H0)]\n",
    "\n",
    "plt.scatter(zs, mus, marker = 'H')\n",
    "plt.xlabel('z')\n",
    "plt.ylabel('$\\u03BC$(z)')\n",
    "plt.show()"
   ]
  },
  {
   "cell_type": "code",
   "execution_count": 7,
   "metadata": {},
   "outputs": [
    {
     "name": "stdout",
     "output_type": "stream",
     "text": [
      "-143986491.0 -38015765991.0 0.0\n"
     ]
    }
   ],
   "source": [
    "def lorenzo(z):\n",
    "    lunchtime = z**2-1\n",
    "    foo = lunchtime*7-lunchtime**3\n",
    "    bar = foo*lunchtime*1.5\n",
    "\n",
    "    return bar\n",
    "    bar *= 2 # doesn't run this because it's after return (code same as bar = bar)\n",
    "\n",
    "print(lorenzo(10), lorenzo(20), lorenzo(1))"
   ]
  },
  {
   "cell_type": "markdown",
   "metadata": {
    "id": "SLWjCnSSXccL"
   },
   "source": [
    "## <font color='deepskyblue'>The Union2.1 Compilation</font>\n",
    "\n",
    "Our source of data is from [Union2.1](http://supernova.lbl.gov/Union/). It is a collection of $580$ SNIa, each observation is comprised of redshift $z$\n",
    "Our goal today is to use SNIa measurements to constrain the parameters ($h, \\Omega_\\Lambda, \\Omega_m$).\n",
    "\n",
    "In essence, we can calculate for each redshift the theoretical value of $\\mu$ using this equation with the expression for $d_L(z)$ and our model of choice $H(z)$ -- note that we will need to perform a numerical integral! -- and compare this value with observations. A different model would amount to changing the theoretical value of $H(z)$.\n",
    "\n",
    "Let us start by importing and plotting the data:"
   ]
  },
  {
   "cell_type": "code",
   "execution_count": 8,
   "metadata": {
    "colab": {
     "base_uri": "https://localhost:8080/",
     "height": 34
    },
    "id": "sKb3QGqXTuJ5",
    "outputId": "5f63d345-d1b7-4522-a545-4ebb8d8b9fac"
   },
   "outputs": [
    {
     "data": {
      "text/plain": [
       "array([      nan, 2.849e-02, 3.535e+01, 2.239e-01, 1.284e-01])"
      ]
     },
     "metadata": {},
     "output_type": "display_data"
    }
   ],
   "source": [
    "dataloc = \"http://supernova.lbl.gov/Union/figures/SCPUnion2.1_mu_vs_z.txt\"\n",
    "\n",
    "# Read in data as numpy array.\n",
    "# Format is [name, redshift, magnitude, magnitude error, and another number?]\n",
    "data = np.genfromtxt(dataloc)\n",
    "\n",
    "# Print the first line as an example. (Note that genfromtxt turns the names into 'Not A Number')\n",
    "display(data[0]) "
   ]
  },
  {
   "cell_type": "code",
   "execution_count": 9,
   "metadata": {
    "id": "2mvAA83gVIHz"
   },
   "outputs": [],
   "source": [
    "# Extract the redshifts (zs), distance modulus (dist_mod) and magnitude estimated errors (err_dist_mod)\n",
    "# Data are in columns, so we either slice it by columns: arr[:,n]...\n",
    "zs = data[:,1] # redshift\n",
    "\n",
    "# ...or transpose the array and then slice by row: arr_transposed[n]\n",
    "distance_modulus = data.T[2] # distance modulus = data[:,2]\n",
    "error_distance_modulus = data.T[3] # errors on distance modulus = sigmas"
   ]
  },
  {
   "cell_type": "code",
   "execution_count": 10,
   "metadata": {
    "id": "x2hF3drbVPEW"
   },
   "outputs": [],
   "source": [
    "# Let's look at the data, just for fun.\n",
    "# We can look both at the raw data (distance modulus) or calculate the luminosity distance\n",
    "# Note that Numpy allows us to manipulate whole arrays at once with something like:\n",
    "#     array_2 = some_function_of(array_1)\n",
    "\n",
    "# luminosity distance in Mpc\n",
    "luminosity_distance_pc = 1.E-5 * 10.**(distance_modulus / 5.)"
   ]
  },
  {
   "cell_type": "code",
   "execution_count": 11,
   "metadata": {
    "id": "o81D-kOYYwx5"
   },
   "outputs": [
    {
     "data": {
      "text/plain": [
       "<function matplotlib.pyplot.show(close=None, block=None)>"
      ]
     },
     "execution_count": 11,
     "metadata": {},
     "output_type": "execute_result"
    },
    {
     "data": {
      "image/png": "[encoded data removed]",
      "text/plain": [
       "<Figure size 1000x700 with 1 Axes>"
      ]
     },
     "metadata": {},
     "output_type": "display_data"
    }
   ],
   "source": [
    "# Recommendation: you might want to try your functions here, and check that for h (in theh hubble var formula) = 0.7, Omega_m = 0.3 and Omega_L = 0.7 \n",
    "#you get a decent match to the data, should look like the graph below\n",
    "%matplotlib inline\n",
    "plt.figure(figsize=(10,7))\n",
    "\n",
    "plt.xlabel('redshift')\n",
    "plt.ylabel('Distance modulus')\n",
    "\n",
    "sorted_data=data[data[:,1].argsort()]\n",
    "\n",
    "\n",
    "plt.errorbar(zs, distance_modulus, yerr=data[:,3], fmt='o', markersize='2', color='k', ecolor='g')\n",
    "\n",
    "\n",
    "OmegaL = 0.7\n",
    "OmegaM = 0.3\n",
    "H0 = 0.45\n",
    "\n",
    "modelzs = np.arange(0.05,1.5,0.05)\n",
    "modelmus = []\n",
    "for z in modelzs:\n",
    "    modelmus += [mu(z, OmegaL, OmegaM, H0)]\n",
    "\n",
    "plt.plot(modelzs, modelmus, linewidth = 4)\n",
    "plt.show\n",
    "                \n",
    "# Plot distance modulus versus redshift (original data)"
   ]
  },
  {
   "cell_type": "markdown",
   "metadata": {
    "id": "Hxy2SP9SXccN"
   },
   "source": [
    "## <font color='deepskyblue'>Bayes' Theorem: Likelihood, Prior, Posterior (and Evidence...)</font>\n",
    "\n",
    "The **conditional probability of A given that B is true** is denoted with $P(A|B)$ (read: *probability of A given B*).\n",
    "Did A happen? Then B has probability $P(B|A)$ of happening.\n",
    "\n",
    "[**Bayes' Theorem**](https://en.wikipedia.org/wiki/Bayes%27_theorem) is simply a reflection of the symmetry of the concept of joint probability:\n",
    "\n",
    "$$\n",
    "P(A|B)P(B) = P(B|A)P(A)\n",
    "$$\n",
    "\n",
    "In physics, our goal is often to determine how likely the values of some parameters $\\theta$ are, given how well they reproduce the data $D$.\n",
    "We write Bayes' theorem in the following equivalent form:\n",
    "\n",
    "$$\n",
    "P(\\theta | D) = \\frac{P(D|\\theta)P(\\theta)}{P(D)}\n",
    "$$\n",
    "\n",
    "The various terms conventionally take the names:\n",
    "\n",
    "$$\n",
    "\\begin{aligned}\n",
    "P(\\theta | D) & && \\text{Posterior}\n",
    "\\\\\n",
    "P(D | \\theta)& && \\text{Likelihood}\n",
    "\\\\\n",
    "P(\\theta) & && \\text{Prior}\n",
    "\\\\\n",
    "P(D) & && \\text{Evidence}\n",
    "\\end{aligned}\n",
    "$$\n",
    "\n",
    "### <font color='deepskyblue'>Prior</font>\n",
    "\n",
    "The *prior* quantifies our degree of prior belief in the model parameters. It can contain the results of previous experiments, or theoretical considerations (for instance, that certain parameters cannot be negative, etc.).\n",
    "\n",
    "We can have *strong priors* about something - the Sun still existing at night, see the comic below - or not.\n",
    "When we do *not* have compelling prior knowledge about a parameter, we generally use a *non-informative* prior probability distribution, most often related to the [uniform distribution](https://en.wikipedia.org/wiki/Continuous_uniform_distribution)\n",
    "\n",
    "$$\n",
    "\\begin{aligned}\n",
    "    \\text{Uniform} & && \\theta \\in \\text{Uniform}[\\theta_{\\rm min}, \\theta_{\\rm max}]\n",
    "    \\\\\n",
    "    \\text{Log Uniform} & && \\log\\theta \\in \\text{Uniform}[\\log\\theta_{\\rm min}, \\log\\theta_{\\rm max}]\n",
    "\\end{aligned}\n",
    "$$\n",
    "\n",
    "You may sometimes hear that \"the prior doesn't matter\". While this is not strictly true, it is however true that in many instances the *likelihood* depends more dramatically on the parameters and will have a dominating contribution to the posterior. You are more than welcome to try different priors for the model parameters and see if and how your results change.\n",
    "\n",
    "### <font color='deepskyblue'>Likelihood</font>\n",
    "\n",
    "The measure of how well our model reproduces the data is the **likelihood** $\\mathcal L$. For normal (=Gaussian), uncorrelated data $\\mu_i$ with errors $\\sigma_i$ ($i = \\{1,580\\}$), the likelihood is related to the famous [**chi-squared**](https://en.wikipedia.org/wiki/Chi-square_distribution) via\n",
    "\n",
    "$$\n",
    "P(D | \\theta) \\equiv \\mathcal L = \\exp\\left(-\\frac{\\chi^2}{2}\\right)\n",
    "\\qquad\n",
    "\\qquad\n",
    "\\boxed{\n",
    "\\chi^2 \\equiv \\sum_{i=1}^{580} \\frac{\\left(\\mu_i^{(\\rm theor)} - \\mu_i^{(\\rm obs)}\\right)^2}{\\sigma_i^2}\n",
    "}\n",
    "\\tag{5}\n",
    "$$\n",
    "\n",
    "A *high likelihood* corresponds to a *low chi squared*.\n",
    "\n",
    "In principle, we could attack the problem brute-force: create a grid of values for $h$, $\\Omega_m$, $\\Omega_\\Lambda$, calculate the likelihood for each combination, and create a profile for the likelihood.\n",
    "\n",
    "In practical cases, however, this is not only sub-optimal but sometimes **impossible**. Think of complicated models with 20+ free parameters (this is not unheard of, by the way). Even a very coarse grained grid of 100 values for each parameter would result in more than $10^{40}$ (!!!) different parameter combination to be tested. You can probably understand why this is undesirable.\n",
    "\n",
    "### <font color='deepskyblue'>Evidence</font>\n",
    "\n",
    "This is the tricky bit. The evidence, which is \"*the probability of observing certain data*\", is not something that is easy to evaluate or interpret. This looks like a serious limitation to finding the:\n",
    "\n",
    "\n",
    "### <font color='deepskyblue'>Posterior</font>\n",
    "\n",
    "What does the data tell us about the model parameters? The answer is the *posterior probability distribution*, often (but not necessarily) expressed as (average $\\pm$ standard deviation)\n",
    "\n",
    "$$\n",
    "\\theta_i = \\bar\\theta_i \\pm \\sigma_i\n",
    "$$\n",
    "\n",
    "In other words, the posterior tells us how likely it is for the model parameters to have certain values, *given that we observe the data* $D$.\n",
    "\n",
    "*This is the final goal of our analysis!*\n",
    "\n",
    "<br>\n",
    "\n",
    "![title](http://1.bp.blogspot.com/-tTx4HDejSww/ULcTeK9_V_I/AAAAAAAAA8g/PCYOH-eXGbk/s1600/frequentists_vs_bayesians.png)\n",
    "![title](https://i.redd.it/5r0hwixt0m931.jpg)"
   ]
  },
  {
   "cell_type": "markdown",
   "metadata": {
    "id": "lymI_LaObhcU"
   },
   "source": [
    "## <font color='deepskyblue'>Markov-Chain Monte Carlo</font>\n",
    "\n",
    "Markov-Chain Monte Carlo techniques are a class of methods to sample a probability distribution $P(x)$ - in our case $P(\\theta | D)$ - provided that we can calculate a density $\\mathcal F(x)$ **that is proportional to it** - in our case $P(\\theta)P(D|\\theta)$ = likelihood $\\times$ prior. Among these, a very popular one is the [**Metropolis-Hastings**](https://en.wikipedia.org/wiki/Metropolis%E2%80%93Hastings_algorithm) algorithm, which is what we will use.\n",
    "\n",
    "Schematically, the algorithm works as follows:\n",
    "* Start with an $n$-tuple of parameters $\\theta_{\\rm old} = \\{\\theta_1, \\theta_2, \\dots\\}_{\\rm old}$ (in our case $\\theta = \\{h,\\Omega_m,\\Omega_\\Lambda\\}$) and calculate the $\\mathcal F_{\\rm old}$\n",
    "* Propose a new set of parameters $\\theta_{\\rm prop}$, calculate the new corresponding $\\mathcal F_{\\rm prop}$. How you propose the new parameters is not essential as long as the probability of going from one set of parameters to the next is the same as the inverse: $P(\\theta_a \\to \\theta_b) = P(\\theta_b \\to \\theta_a)$. For this, we normally take Gaussian displacements with some (relatively small) standard deviation.\n",
    "* Compare the new and old likelihoods-priors:\n",
    "    * If $\\mathcal F_{\\rm prop} > \\mathcal F_{\\rm old}$, accept the step: $\\theta_{\\rm new} = \\theta_{\\rm prop}$\n",
    "    * Otherwise, accept with probability $P_{\\rm accept} = \\mathcal F_{\\rm prop}/\\mathcal F_{\\rm old}$\n",
    "* If accepted, $\\theta_{\\rm new} = \\theta_{\\rm prop}$ and record the step; otherwise, $\\theta_{\\rm new} = \\theta_{\\rm old}$ (no re-recording)\n",
    "* Update $\\theta_{\\rm old} = \\theta_{\\rm new}$\n",
    "* Repeat\n",
    "\n",
    "The MC chain keeps going until the desired number of steps or, ideally, when a suitable convergence test, like for example the [Gelman-Rubin test](https://bookdown.org/rdpeng/advstatcomp/monitoring-convergence.html), is satisfied.\n",
    "Today we will just set a limit to the total number of steps, but please feel free to implement and test your favourite convergence test!\n",
    "\n",
    "Looking at equation (5), you can convince yourself that\n",
    "$$\n",
    "\\frac{\\mathcal L_a}{\\mathcal L_b} = \\exp\\left(\\frac{\\chi_b^2 - \\chi_a^2}{2}\\right)\n",
    "$$\n",
    "\n",
    "(This is useful because $\\chi^2$ can be large, so we want to avoid the likelihoods evaluating to `0.` -- computers don't like dividing by zero, unfortunately)\n",
    "\n",
    "\n",
    "* <font color=\"deepskyblue\"> Start with an $n$-tuple of parameters $\\theta_{\\rm old} = \\{\\theta_1, \\theta_2, \\dots\\}_{\\rm old}$ (in our case $\\theta = \\{h,\\Omega_m,\\Omega_\\Lambda\\}$) and the corresponding chi squared $\\chi_{\\rm old}^2$ (to be clear, for us this implies calculating a series of 580 integrals and comparing each with the observed values) </font>\n",
    "* <font color=\"deepskyblue\"> Propose new parameters $\\theta_{\\rm prop}$ and calculate the corresponding chi squared $\\chi_{\\rm prop}^2$</font>\n",
    "* <font color=\"deepskyblue\"> Draw a random number $r \\in [0,1]$</font>\n",
    "* <font color=\"deepskyblue\"> Accept the step if\n",
    "$$\n",
    "r < \\exp\\left(\\frac{\\chi_{\\rm old}^2 - \\chi_{\\rm prop}^2}{2}\\right) \\frac{P(\\theta)_{\\rm prop}}{P(\\theta)_{\\rm old}}\n",
    "$$</font>\n",
    "    * <font color=\"deepskyblue\"> If accepted, update $\\theta_{\\rm old} = \\theta_{\\rm prop}$</font>\n",
    "    * <font color=\"deepskyblue\">If you want, you can keep a record of the best fit (lowest $\\chi^2$), but this is not the specific purpose of MCMC! We are exploring the parameter space and sampling a _posterior distribution_, not just finding the best fit</font>\n",
    "* <font color=\"deepskyblue\"> Record the step - including **re-recording** if the step was not accepted! </font>\n",
    "* <font color=\"deepskyblue\"> Repeat</font>"
   ]
  },
  {
   "cell_type": "code",
   "execution_count": 43,
   "metadata": {
    "id": "xvF9UhsMXccR",
    "scrolled": true
   },
   "outputs": [
    {
     "name": "stdout",
     "output_type": "stream",
     "text": [
      "Values: h = 0.2287829050241752 , Omega_M = 0.16861900274162728 , Omega_L = 0.12312263929730587\n",
      "chi2_total = 46897.9914040985\n",
      "this is a better point\n",
      "Values: h = 0.23839957742672835 , Omega_M = 0.3204545450079748 , Omega_L = 0.30333853924782356\n",
      "chi2_total = 43060.00052002612\n",
      "this is a better point\n",
      "Values: h = 0.24701432821887567 , Omega_M = 0.1807091163418499 , Omega_L = 0.35245695041375724\n",
      "chi2_total = 38392.550745116736\n",
      "this is a better point\n",
      "Values: h = 0.13643155477374 , Omega_M = 0.23221729381050382 , Omega_L = 0.4928780732699472\n",
      "chi2_total = 141945.5120054621\n",
      "Values: h = 0.23932745045628812 , Omega_M = 0.25695896096643195 , Omega_L = 0.14178927334674207\n",
      "chi2_total = 41650.41822199813\n",
      "Values: h = 0.3680930590945959 , Omega_M = 0.27065989571439164 , Omega_L = 0.5482811471656841\n",
      "chi2_total = 6520.570396625564\n",
      "this is a better point\n",
      "Values: h = 0.4698890009522731 , Omega_M = 0.07359978054839258 , Omega_L = 0.611037946587677\n",
      "chi2_total = 703.9440519898624\n",
      "this is a better point\n",
      "Values: h = 0.38905047442105933 , Omega_M = 0.15807529431865663 , Omega_L = 0.588639881481841\n",
      "chi2_total = 4157.071056234189\n",
      "Values: h = 0.41655467642629607 , Omega_M = 0.1853608092136297 , Omega_L = 0.4919547713038415\n",
      "chi2_total = 2104.5166010835947\n",
      "Values: h = 0.4702683347739608 , Omega_M = 0.07996551560299942 , Omega_L = 0.7297487345943647\n",
      "chi2_total = 688.5095037673755\n",
      "this is a better point\n",
      "Values: h = 0.5094648077548007 , Omega_M = 0.0921336104096267 , Omega_L = 0.597823509151618\n",
      "chi2_total = 1249.1572700474392\n",
      "Values: h = 0.5122688738504467 , Omega_M = 0.1271113947622114 , Omega_L = 0.7185991470762435\n",
      "chi2_total = 1223.8134762167526\n",
      "Values: h = 0.4271211560059425 , Omega_M = 0.1680862972880261 , Omega_L = 0.5894242059991646\n",
      "chi2_total = 1634.800966982518\n",
      "Values: h = 0.5030863879175402 , Omega_M = 0.012234470210576179 , Omega_L = 0.7577201402520578\n",
      "chi2_total = 1039.7677302403247\n",
      "Values: h = 0.4464644717942173 , Omega_M = 0.11094700061370848 , Omega_L = 0.7992667453412055\n",
      "chi2_total = 1029.9107207895481\n",
      "Values: h = 0.5702462243465121 , Omega_M = 0.10006112263923098 , Omega_L = 0.7470003653832048\n",
      "chi2_total = 3791.1038095981944\n",
      "Values: h = 0.3829607113971889 , Omega_M = 0.2579986788987296 , Omega_L = 0.5770809544134731\n",
      "chi2_total = 4853.12388280324\n",
      "Values: h = 0.4507664069864986 , Omega_M = 0.2750652783774449 , Omega_L = 0.7071722927584638\n",
      "chi2_total = 944.8186601740484\n",
      "Values: h = 0.43445961892695134 , Omega_M = 0.14454982681796386 , Omega_L = 0.7791004290995639\n",
      "chi2_total = 1417.6473328261432\n",
      "Values: h = 0.4744051015664647 , Omega_M = 0.2543927256426532 , Omega_L = 0.8655765283833219\n",
      "chi2_total = 650.481719220708\n",
      "this is a better point\n",
      "Values: h = 0.3556425459306306 , Omega_M = 0.5279121801904788 , Omega_L = 0.6497075555325456\n",
      "chi2_total = 8894.535026333966\n",
      "Values: h = 0.645933107469572 , Omega_M = 0.2677575428824942 , Omega_L = 0.971553769799542\n",
      "chi2_total = 8556.350402869592\n",
      "Values: h = 0.5111210618055675 , Omega_M = 0.11686276386465619 , Omega_L = 0.8788660793537418\n",
      "chi2_total = 1098.299597892501\n",
      "Values: h = 0.47144038940261557 , Omega_M = 0.26263531272311064 , Omega_L = 1.1224589021322258\n",
      "chi2_total = 676.0392379935295\n",
      "Values: h = 0.3908417544485212 , Omega_M = 0.14907827068128926 , Omega_L = 0.8203879648762339\n",
      "chi2_total = 4252.872608263757\n",
      "Values: h = 0.3763502525080658 , Omega_M = 0.2575207806649303 , Omega_L = 0.9166103164538624\n",
      "chi2_total = 6068.395870924755\n",
      "Values: h = 0.5734609721861661 , Omega_M = 0.32572892827481054 , Omega_L = 0.7980519504338087\n",
      "chi2_total = 3596.783498631962\n",
      "Values: h = 0.3809057062720956 , Omega_M = 0.27791100374132316 , Omega_L = 0.8090858132106508\n",
      "chi2_total = 5415.332663039827\n",
      "Values: h = 0.3673920136466734 , Omega_M = 0.23025550776855386 , Omega_L = 0.7884387594957195\n",
      "chi2_total = 6930.00166753809\n",
      "Values: h = 0.42577118382639034 , Omega_M = 0.3249694531660581 , Omega_L = 0.8659379958590541\n",
      "chi2_total = 1969.4052898599955\n",
      "Values: h = 0.4245050199059085 , Omega_M = 0.21403130375196788 , Omega_L = 1.0267274192040263\n",
      "chi2_total = 2074.47590220807\n",
      "Values: h = 0.6300766290896772 , Omega_M = 0.16996141064513015 , Omega_L = 0.7314716756577619\n",
      "chi2_total = 7962.189393687943\n",
      "Values: h = 0.3601890976372489 , Omega_M = 0.2168466196755745 , Omega_L = 0.8487831712466215\n",
      "chi2_total = 8000.88765615511\n",
      "Values: h = 0.42437496803249064 , Omega_M = 0.38310501796324414 , Omega_L = 0.650765189335231\n",
      "chi2_total = 1930.0462510178393\n",
      "Values: h = 0.4061601899864568 , Omega_M = 0.3832101943366263 , Omega_L = 0.9557850113718842\n",
      "chi2_total = 3381.351546746221\n",
      "Values: h = 0.5981800862395288 , Omega_M = 0.12808463270232126 , Omega_L = 1.0432180711545855\n",
      "chi2_total = 5069.622310865968\n",
      "Values: h = 0.586826253343509 , Omega_M = 0.2791032942294648 , Omega_L = 0.7245974168917417\n",
      "chi2_total = 4589.620627676657\n",
      "Values: h = 0.6773323900371219 , Omega_M = 0.21804178731410184 , Omega_L = 0.6417400301356705\n",
      "chi2_total = 12285.847209403837\n",
      "Values: h = 0.5678730802545324 , Omega_M = 0.3146898022452028 , Omega_L = 0.8236629138462512\n",
      "chi2_total = 3264.176376067873\n",
      "Values: h = 0.5339880393655903 , Omega_M = 0.06415250902961997 , Omega_L = 0.8632861814779805\n",
      "chi2_total = 1892.6807029836166\n",
      "Values: h = 0.5954516850697986 , Omega_M = 0.21160211242272634 , Omega_L = 0.9521567948918573\n",
      "chi2_total = 4899.582081825149\n",
      "Values: h = 0.41524134293343695 , Omega_M = 0.4124569684274401 , Omega_L = 0.9917578891631584\n",
      "chi2_total = 2788.27100604894\n",
      "Values: h = 0.43236699788064537 , Omega_M = 0.18897654705004543 , Omega_L = 0.7235351143261853\n",
      "chi2_total = 1494.238592223298\n",
      "Values: h = 0.2794600400666174 , Omega_M = 0.3674242730134377 , Omega_L = 0.9525167992105323\n",
      "chi2_total = 28020.943877789217\n",
      "Values: h = 0.5899638825670193 , Omega_M = 0.2852963463390314 , Omega_L = 0.8198757225228277\n",
      "chi2_total = 4633.785759875148\n",
      "Values: h = 0.36144764426499454 , Omega_M = 0.04758353579620203 , Omega_L = 0.9721750882231438\n",
      "chi2_total = 7738.631208953142\n",
      "Values: h = 0.369265671549009 , Omega_M = 0.2429302838830283 , Omega_L = 0.8480014449014092\n",
      "chi2_total = 6807.873599725071\n",
      "Values: h = 0.46770301559110095 , Omega_M = 0.33682660200468434 , Omega_L = 0.7907831617183817\n",
      "chi2_total = 695.1627731280767\n",
      "Values: h = 0.4972177573937609 , Omega_M = 0.2905049016864222 , Omega_L = 0.914246353790226\n",
      "chi2_total = 736.1383016108049\n",
      "Values: h = 0.4427052525978665 , Omega_M = 0.36463797182190727 , Omega_L = 0.8447700553936901\n",
      "chi2_total = 1254.1332441911616\n",
      "Values: h = 0.5517373133442319 , Omega_M = 0.23679215175532564 , Omega_L = 0.8638406256761962\n",
      "chi2_total = 2488.0615423784525\n",
      "Values: h = 0.3672231940761992 , Omega_M = 0.3123951867830558 , Omega_L = 0.8422500847289369\n",
      "chi2_total = 7184.90324275144\n",
      "Values: h = 0.41667351552032283 , Omega_M = 0.4058980041408403 , Omega_L = 0.8350073792400574\n",
      "chi2_total = 2535.27834436733\n",
      "Values: h = 0.44734903816099914 , Omega_M = 0.1369695360844736 , Omega_L = 0.8557807262094644\n",
      "chi2_total = 1031.1163050367281\n",
      "Values: h = 0.5128041889827619 , Omega_M = 0.21541618532961723 , Omega_L = 0.9097158674253226\n",
      "chi2_total = 1061.485561935462\n",
      "Values: h = 0.343213425272045 , Omega_M = 0.08051942732039671 , Omega_L = 0.8710010028459264\n",
      "chi2_total = 10477.899169135408\n",
      "Values: h = 0.5096352397235352 , Omega_M = 0.06902088317523564 , Omega_L = 0.7319100165975514\n",
      "chi2_total = 1181.7075261608618\n",
      "Values: h = 0.532314205406912 , Omega_M = 0.11212591874600414 , Omega_L = 0.7970017313326916\n",
      "chi2_total = 1843.5924306049958\n",
      "Values: h = 0.4421309990972187 , Omega_M = 0.3198496521456182 , Omega_L = 0.8504638219840057\n",
      "chi2_total = 1255.5968757922678\n",
      "Values: h = 0.41739678357378274 , Omega_M = 0.1823147172277958 , Omega_L = 0.8199625519493565\n",
      "chi2_total = 2289.100447903137\n",
      "Values: h = 0.35806010911367564 , Omega_M = 0.3750179940902454 , Omega_L = 0.8456728956610641\n",
      "chi2_total = 8610.607304999354\n",
      "Values: h = 0.4111316386904521 , Omega_M = 0.35155324743851046 , Omega_L = 0.7316233201514217\n",
      "chi2_total = 2753.239924490467\n",
      "Values: h = 0.3605390273910174 , Omega_M = 0.06739378251905376 , Omega_L = 0.9268643340601419\n",
      "chi2_total = 7821.86511724401\n",
      "Values: h = 0.7011206956069517 , Omega_M = 0.17434239320149483 , Omega_L = 0.8456715492301504\n",
      "chi2_total = 14202.869687315955\n",
      "Values: h = 0.39209622755064283 , Omega_M = 0.20305414726004206 , Omega_L = 0.7587814284568637\n",
      "chi2_total = 4128.456990227034\n",
      "Values: h = 0.3186240844530945 , Omega_M = 0.14001827396358485 , Omega_L = 0.8887890703693722\n",
      "chi2_total = 15645.947352205281\n",
      "Values: h = 0.4188932192153981 , Omega_M = 0.15844398661460085 , Omega_L = 1.07115069402458\n",
      "chi2_total = 2387.468785764455\n",
      "Values: h = 0.4726790082274711 , Omega_M = 0.234145017390489 , Omega_L = 0.8223023162827625\n",
      "chi2_total = 660.9296823268472\n",
      "Values: h = 0.43978790947729585 , Omega_M = 0.14643922912415996 , Omega_L = 0.9556401026666899\n",
      "chi2_total = 1305.4541439290529\n",
      "Values: h = 0.4236083490386073 , Omega_M = 0.3498516900662781 , Omega_L = 0.6679266242889941\n",
      "chi2_total = 1958.353651686701\n",
      "Values: h = 0.49592754694212193 , Omega_M = 0.21881170472681097 , Omega_L = 0.9855884087647468\n",
      "chi2_total = 720.7684359779603\n",
      "Values: h = 0.457901909236494 , Omega_M = 0.3434435986526269 , Omega_L = 0.8520751791415754\n",
      "chi2_total = 845.1941397144785\n",
      "Values: h = 0.5579401958919865 , Omega_M = 0.19954079465675523 , Omega_L = 0.8237984880258216\n",
      "chi2_total = 2882.8270193947264\n",
      "Values: h = 0.31106720852337844 , Omega_M = 0.33332787950336107 , Omega_L = 0.8234470059785233\n",
      "chi2_total = 17845.5409051426\n",
      "Values: h = 0.5043328259984925 , Omega_M = 0.2985080817974445 , Omega_L = 0.8688840258203666\n",
      "chi2_total = 860.0125335700014\n",
      "Values: h = 0.4876679868442586 , Omega_M = 0.36931838275609347 , Omega_L = 0.9872219376860811\n",
      "chi2_total = 621.2410693244948\n",
      "this is a better point\n",
      "Values: h = 0.6198863122677974 , Omega_M = 0.5806763279779248 , Omega_L = 1.0559787416756516\n",
      "chi2_total = 5738.102875451242\n",
      "Values: h = 0.48235278084030775 , Omega_M = 0.27347983101447776 , Omega_L = 0.9076317610228404\n",
      "chi2_total = 635.842891518967\n",
      "Values: h = 0.48972127385539815 , Omega_M = 0.2995901410780102 , Omega_L = 0.7261173332243281\n",
      "chi2_total = 712.9882167706473\n",
      "Values: h = 0.48672844592031517 , Omega_M = 0.4289651523338336 , Omega_L = 1.0935677453951858\n",
      "chi2_total = 599.1374601466492\n",
      "this is a better point\n",
      "Values: h = 0.4843291778964301 , Omega_M = 0.5841631336466995 , Omega_L = 1.0269264690259348\n",
      "chi2_total = 599.0939858389272\n",
      "this is a better point\n",
      "Values: h = 0.6324279118677172 , Omega_M = 0.7771109831065961 , Omega_L = 1.1279107411766012\n",
      "chi2_total = 6103.3401774177155\n",
      "Values: h = 0.3701713381051761 , Omega_M = 0.657525158762076 , Omega_L = 1.168197941475029\n",
      "chi2_total = 8104.987943564354\n",
      "Values: h = 0.5941550970411411 , Omega_M = 0.6916665134694528 , Omega_L = 1.2428777346576991\n",
      "chi2_total = 3606.479298060782\n",
      "Values: h = 0.39998068398752584 , Omega_M = 0.8136921909553123 , Omega_L = 1.120787552430122\n",
      "chi2_total = 4766.9016637816\n",
      "Values: h = 0.7046823233733308 , Omega_M = 0.7366138659543795 , Omega_L = 1.1402245282343926\n",
      "chi2_total = 12125.827082373085\n",
      "Values: h = 0.5896967288124845 , Omega_M = 0.6255534061665435 , Omega_L = 1.021482313978965\n",
      "chi2_total = 3782.205959750997\n",
      "[0.169 0.32  0.181 0.271 0.074 0.08  0.254 0.369 0.429 0.584]\n",
      "chi2_tuple = [array([0.229, 0.238, 0.247, 0.368, 0.47 , 0.47 , 0.474, 0.488, 0.487,\n",
      "       0.484]), array([0.169, 0.32 , 0.181, 0.271, 0.074, 0.08 , 0.254, 0.369, 0.429,\n",
      "       0.584]), array([0.123, 0.303, 0.352, 0.548, 0.611, 0.73 , 0.866, 0.987, 1.094,\n",
      "       1.027])]\n"
     ]
    }
   ],
   "source": [
    "# You don't actually need to write your data on a file (you could just store it in some np.array)\n",
    "# but it tends to be a good idea, so that you run a good, long MCMC once, and then you can do all the\n",
    "# analysis later on at any time, without having to produce the data again\n",
    "\n",
    "# Choose your favourite filename\n",
    "filename = \"MC_Chain_SNIa.txt\"\n",
    "file = open(filename, \"w\")\n",
    "\n",
    "# A few thousand *ACCEPTED* steps is a decent ballpark for the minimum length of your MCMC chain\n",
    "# NB: start with a few hundreds, see if everything works as expected, and then commit to a longer run (>= 5000 steps)\n",
    "N_steps = 100\n",
    "\n",
    "# Start from some very bad values, to show that the MCMC works anyway!\n",
    "# (making sure you don't divide by zero anywhere...)\n",
    "Omega_M = 0.1\n",
    "Omega_L = 0.1\n",
    "h = 0.1\n",
    "\n",
    "\n",
    "chi2_total_best = 9999999\n",
    "chi2_total_list = []\n",
    "h_values = []\n",
    "Omega_M_values = []\n",
    "Omega_L_values = []\n",
    "tuple = []\n",
    "chi2_tuple = []\n",
    "\n",
    "for i in range(N_steps) :\n",
    "\n",
    "    Omega_M_new = Omega_M + np.random.normal(0,0.1)\n",
    "    Omega_L_new = Omega_L + np.random.normal(0,0.1)\n",
    "    h_new       = h       + np.random.normal(0,0.1)\n",
    "\n",
    "    if(Omega_M_new < 0) : continue\n",
    "    if(h_new < 0.0) : continue\n",
    "    \n",
    "    print(\"Values: h = {} , Omega_M = {} , Omega_L = {}\".format(h_new, Omega_M_new, Omega_L_new))\n",
    "\n",
    "    chi2_total = 0.\n",
    "    for i in range(len(zs)) :\n",
    "        mu_model = mu(zs[i], Omega_L_new, Omega_M_new, h_new)\n",
    "        chi2 = (mu_model - distance_modulus[i])**2/error_distance_modulus[i]**2\n",
    "        chi2_total += chi2\n",
    "        \n",
    "        if np.isnan(chi2_total) : continue\n",
    "\n",
    "    print(\"chi2_total = {}\".format(chi2_total))\n",
    "        \n",
    "\n",
    "    if(chi2_total < chi2_total_best) :\n",
    "        print(\"this is a better point\")\n",
    "\n",
    "        Omega_M = Omega_M_new\n",
    "        Omega_L = Omega_L_new\n",
    "        h = h_new\n",
    "        chi2_total_best = chi2_total\n",
    "        chi2_total_list.append(chi2_total)\n",
    "\n",
    "        h_values.append(h_new)\n",
    "        Omega_M_values.append(Omega_M_new)\n",
    "        Omega_L_values.append(Omega_L_new)\n",
    "        \n",
    "\n",
    "\n",
    "h_values = np.array(h_values)\n",
    "Omega_M_values = np.array(Omega_M_values)\n",
    "print(Omega_M_values)\n",
    "Omega_L_values = np.array(Omega_L_values)\n",
    "tuple = [h_values, Omega_M_values, Omega_L_values]\n",
    "chi2_tuple += tuple\n",
    "print(\"chi2_tuple = {}\".format(chi2_tuple))\n",
    "\n",
    "\n",
    "file.close();"
   ]
  },
  {
   "cell_type": "code",
   "execution_count": null,
   "metadata": {},
   "outputs": [],
   "source": [
    "plt.plot(chi2_total_list)\n",
    "plt.xlabel(\"successful step\")\n",
    "plt.ylabel('$\\u03C7^2$')\n",
    "plt.show()\n",
    "\n",
    "print(\"Best values: h = {} , Omega_M = {} , Omega_L = {}\".format(h, Omega_M, Omega_L))\n"
   ]
  },
  {
   "cell_type": "markdown",
   "metadata": {
    "id": "qw52S4G0XccR"
   },
   "source": [
    "After completion of the programme, your MC chain will (*hopefully*) look something like this: (note the repeated entry!)\n",
    "\n",
    "`#Omega_m  Omega_L  h`\n",
    "\n",
    "`0.297     0.703    0.698`\n",
    "\n",
    "`0.285     0.715    0.701`\n",
    "\n",
    "`0.285     0.715    0.701`\n",
    "\n",
    "`0.288     0.712    0.699`\n",
    "\n",
    "`...`"
   ]
  },
  {
   "cell_type": "code",
   "execution_count": 27,
   "metadata": {},
   "outputs": [
    {
     "data": {
      "image/png": "[encoded data removed]",
      "text/plain": [
       "<Figure size 640x480 with 1 Axes>"
      ]
     },
     "metadata": {},
     "output_type": "display_data"
    }
   ],
   "source": [
    "plt.errorbar(zs, distance_modulus,\\\n",
    "             yerr=error_distance_modulus,\\\n",
    "             fmt='o',\\\n",
    "             color='black',\\\n",
    "             ecolor='red',\\\n",
    "             markersize=2)\n",
    "\n",
    "modelzs = np.arange(0.05, 1.5, 0.05)\n",
    "modelmus = []\n",
    "for z in modelzs :\n",
    "    modelmus += [mu(z, Omega_L, Omega_M, h)]\n",
    "\n",
    "plt.plot(modelzs, modelmus, linewidth=4)\n",
    "plt.show()"
   ]
  },
  {
   "cell_type": "markdown",
   "metadata": {
    "id": "dB-wD3cLXccR"
   },
   "source": [
    "## <font color='deepskyblue'>Plotting: GetDist</font>\n",
    "\n",
    "We will do the plots with [`GetDist`](https://getdist.readthedocs.io/en/latest/plot_gallery.html).\n",
    "\n",
    "The plot gallery contains a lot of useful examples, you should be able to read them fairly easily and see which applies to your situation. Look for both (triangle) plots and for parameter estimation.\n",
    "\n",
    "Note that many `GetDist` functions require arguments of type `MCSamples`; make sure you convert your lists accordingly.\n",
    "\n",
    "<font color='deepskyblue'>\n",
    "Look at your results. Do you obtain $\\Omega_\\Lambda \\neq 0$? To a high degree of significance?\n",
    "\n",
    "If yes, then my dear friend, you have **DISCOVERED THE ACCELERATED EXPANSION OF THE UNIVERSE AND WON THE NOBEL PRIZE IN PHYSICS 2011!**\n",
    "</font>"
   ]
  },
  {
   "cell_type": "code",
   "execution_count": 46,
   "metadata": {
    "colab": {
     "base_uri": "https://localhost:8080/",
     "height": 1000
    },
    "id": "4JIvURq9XccR",
    "outputId": "e4df3f48-8664-43a9-ad12-22677e083fa7",
    "scrolled": true
   },
   "outputs": [
    {
     "name": "stdout",
     "output_type": "stream",
     "text": [
      "0.4843291778964301 0.3 0.7 0.0\n"
     ]
    },
    {
     "ename": "ValueError",
     "evalue": "cannot reshape array of size 4 into shape (4,18)",
     "output_type": "error",
     "traceback": [
      "\u001b[1;31m---------------------------------------------------------------------------\u001b[0m",
      "\u001b[1;31mValueError\u001b[0m                                Traceback (most recent call last)",
      "Cell \u001b[1;32mIn[46], line 20\u001b[0m\n\u001b[0;32m     17\u001b[0m my_dim \u001b[38;5;241m=\u001b[39m \u001b[38;5;28mlen\u001b[39m(my_names) \u001b[38;5;66;03m# The number of variables we're plotting\u001b[39;00m\n\u001b[0;32m     19\u001b[0m \u001b[38;5;66;03m# This creates a higher-dimensional array with all our data, shaped in the appropriate way...\u001b[39;00m\n\u001b[1;32m---> 20\u001b[0m my_samples \u001b[38;5;241m=\u001b[39m np\u001b[38;5;241m.\u001b[39mtranspose(\u001b[43mnp\u001b[49m\u001b[38;5;241;43m.\u001b[39;49m\u001b[43mreshape\u001b[49m\u001b[43m(\u001b[49m\u001b[43m[\u001b[49m\u001b[43mh\u001b[49m\u001b[43m,\u001b[49m\u001b[43m \u001b[49m\u001b[43mOmegaM\u001b[49m\u001b[43m,\u001b[49m\u001b[43m \u001b[49m\u001b[43mOmegaL\u001b[49m\u001b[43m,\u001b[49m\u001b[43m \u001b[49m\u001b[43mOmegak\u001b[49m\u001b[43m]\u001b[49m\u001b[43m,\u001b[49m\u001b[43m \u001b[49m\u001b[43m(\u001b[49m\u001b[43mmy_dim\u001b[49m\u001b[43m,\u001b[49m\u001b[43m \u001b[49m\u001b[38;5;28;43mlen\u001b[39;49m\u001b[43m(\u001b[49m\u001b[38;5;28;43mstr\u001b[39;49m\u001b[43m(\u001b[49m\u001b[43mh\u001b[49m\u001b[43m)\u001b[49m\u001b[43m)\u001b[49m\u001b[43m)\u001b[49m\u001b[43m)\u001b[49m)\n\u001b[0;32m     21\u001b[0m \u001b[38;5;66;03m# ... to create an \"MCSamples\" data type, which GetDist can use\u001b[39;00m\n\u001b[0;32m     22\u001b[0m my_samples \u001b[38;5;241m=\u001b[39m MCSamples(samples \u001b[38;5;241m=\u001b[39m my_samples, labels \u001b[38;5;241m=\u001b[39m my_labels, names \u001b[38;5;241m=\u001b[39m my_names)\n",
      "File \u001b[1;32m~\\AppData\\Local\\Programs\\Python\\Python312\\Lib\\site-packages\\numpy\\core\\fromnumeric.py:285\u001b[0m, in \u001b[0;36mreshape\u001b[1;34m(a, newshape, order)\u001b[0m\n\u001b[0;32m    200\u001b[0m \u001b[38;5;129m@array_function_dispatch\u001b[39m(_reshape_dispatcher)\n\u001b[0;32m    201\u001b[0m \u001b[38;5;28;01mdef\u001b[39;00m \u001b[38;5;21mreshape\u001b[39m(a, newshape, order\u001b[38;5;241m=\u001b[39m\u001b[38;5;124m'\u001b[39m\u001b[38;5;124mC\u001b[39m\u001b[38;5;124m'\u001b[39m):\n\u001b[0;32m    202\u001b[0m \u001b[38;5;250m    \u001b[39m\u001b[38;5;124;03m\"\"\"\u001b[39;00m\n\u001b[0;32m    203\u001b[0m \u001b[38;5;124;03m    Gives a new shape to an array without changing its data.\u001b[39;00m\n\u001b[0;32m    204\u001b[0m \n\u001b[1;32m   (...)\u001b[0m\n\u001b[0;32m    283\u001b[0m \u001b[38;5;124;03m           [5, 6]])\u001b[39;00m\n\u001b[0;32m    284\u001b[0m \u001b[38;5;124;03m    \"\"\"\u001b[39;00m\n\u001b[1;32m--> 285\u001b[0m     \u001b[38;5;28;01mreturn\u001b[39;00m \u001b[43m_wrapfunc\u001b[49m\u001b[43m(\u001b[49m\u001b[43ma\u001b[49m\u001b[43m,\u001b[49m\u001b[43m \u001b[49m\u001b[38;5;124;43m'\u001b[39;49m\u001b[38;5;124;43mreshape\u001b[39;49m\u001b[38;5;124;43m'\u001b[39;49m\u001b[43m,\u001b[49m\u001b[43m \u001b[49m\u001b[43mnewshape\u001b[49m\u001b[43m,\u001b[49m\u001b[43m \u001b[49m\u001b[43morder\u001b[49m\u001b[38;5;241;43m=\u001b[39;49m\u001b[43morder\u001b[49m\u001b[43m)\u001b[49m\n",
      "File \u001b[1;32m~\\AppData\\Local\\Programs\\Python\\Python312\\Lib\\site-packages\\numpy\\core\\fromnumeric.py:56\u001b[0m, in \u001b[0;36m_wrapfunc\u001b[1;34m(obj, method, *args, **kwds)\u001b[0m\n\u001b[0;32m     54\u001b[0m bound \u001b[38;5;241m=\u001b[39m \u001b[38;5;28mgetattr\u001b[39m(obj, method, \u001b[38;5;28;01mNone\u001b[39;00m)\n\u001b[0;32m     55\u001b[0m \u001b[38;5;28;01mif\u001b[39;00m bound \u001b[38;5;129;01mis\u001b[39;00m \u001b[38;5;28;01mNone\u001b[39;00m:\n\u001b[1;32m---> 56\u001b[0m     \u001b[38;5;28;01mreturn\u001b[39;00m \u001b[43m_wrapit\u001b[49m\u001b[43m(\u001b[49m\u001b[43mobj\u001b[49m\u001b[43m,\u001b[49m\u001b[43m \u001b[49m\u001b[43mmethod\u001b[49m\u001b[43m,\u001b[49m\u001b[43m \u001b[49m\u001b[38;5;241;43m*\u001b[39;49m\u001b[43margs\u001b[49m\u001b[43m,\u001b[49m\u001b[43m \u001b[49m\u001b[38;5;241;43m*\u001b[39;49m\u001b[38;5;241;43m*\u001b[39;49m\u001b[43mkwds\u001b[49m\u001b[43m)\u001b[49m\n\u001b[0;32m     58\u001b[0m \u001b[38;5;28;01mtry\u001b[39;00m:\n\u001b[0;32m     59\u001b[0m     \u001b[38;5;28;01mreturn\u001b[39;00m bound(\u001b[38;5;241m*\u001b[39margs, \u001b[38;5;241m*\u001b[39m\u001b[38;5;241m*\u001b[39mkwds)\n",
      "File \u001b[1;32m~\\AppData\\Local\\Programs\\Python\\Python312\\Lib\\site-packages\\numpy\\core\\fromnumeric.py:45\u001b[0m, in \u001b[0;36m_wrapit\u001b[1;34m(obj, method, *args, **kwds)\u001b[0m\n\u001b[0;32m     43\u001b[0m \u001b[38;5;28;01mexcept\u001b[39;00m \u001b[38;5;167;01mAttributeError\u001b[39;00m:\n\u001b[0;32m     44\u001b[0m     wrap \u001b[38;5;241m=\u001b[39m \u001b[38;5;28;01mNone\u001b[39;00m\n\u001b[1;32m---> 45\u001b[0m result \u001b[38;5;241m=\u001b[39m \u001b[38;5;28;43mgetattr\u001b[39;49m\u001b[43m(\u001b[49m\u001b[43masarray\u001b[49m\u001b[43m(\u001b[49m\u001b[43mobj\u001b[49m\u001b[43m)\u001b[49m\u001b[43m,\u001b[49m\u001b[43m \u001b[49m\u001b[43mmethod\u001b[49m\u001b[43m)\u001b[49m\u001b[43m(\u001b[49m\u001b[38;5;241;43m*\u001b[39;49m\u001b[43margs\u001b[49m\u001b[43m,\u001b[49m\u001b[43m \u001b[49m\u001b[38;5;241;43m*\u001b[39;49m\u001b[38;5;241;43m*\u001b[39;49m\u001b[43mkwds\u001b[49m\u001b[43m)\u001b[49m\n\u001b[0;32m     46\u001b[0m \u001b[38;5;28;01mif\u001b[39;00m wrap:\n\u001b[0;32m     47\u001b[0m     \u001b[38;5;28;01mif\u001b[39;00m \u001b[38;5;129;01mnot\u001b[39;00m \u001b[38;5;28misinstance\u001b[39m(result, mu\u001b[38;5;241m.\u001b[39mndarray):\n",
      "\u001b[1;31mValueError\u001b[0m: cannot reshape array of size 4 into shape (4,18)"
     ]
    }
   ],
   "source": [
    "# NB: when using your real data, consider removing some *burn-in* (look it up!)\n",
    "chi2_tuple = h, OmegaM, OmegaL\n",
    "#map(list, zip(*[(h), (OmegaM), (OmegaL)]))\n",
    "hs, OmageMs, OmegaLs = [], [], []\n",
    "#for h, omegaM, OmegaL in chi2_tuple:\n",
    "#    hs.append(h)\n",
    "#    OmegaMs.append(OmegaM)\n",
    "#    OmegaL.append(OmegaL)\n",
    "# You can easily create new np.arrays that are functions of other np.arrays\n",
    "Omegak = 1. - OmegaM - OmegaL\n",
    "\n",
    "print(h, OmegaM, OmegaL, Omegak)\n",
    "\n",
    "# Let's define variable names and labels\n",
    "my_labels = [r'h', r'\\Omega_m', r'\\Omega_\\Lambda', r'\\Omega_k']\n",
    "my_names = ['h', 'OmegaM', 'OmegaL', 'Omegak']\n",
    "my_dim = len(my_names) # The number of variables we're plotting\n",
    "\n",
    "# This creates a higher-dimensional array with all our data, shaped in the appropriate way...\n",
    "my_samples = np.transpose(np.reshape([h, OmegaM, OmegaL, Omegak], (my_dim, len(str(h)))))\n",
    "# ... to create an \"MCSamples\" data type, which GetDist can use\n",
    "my_samples = MCSamples(samples = my_samples, labels = my_labels, names = my_names)\n",
    "\n",
    "# The usual 1-sigma confidence level. You can change to 2- or 3-sigma if you want\n",
    "conf_level = 0.6827\n",
    "\n",
    "# This prints a table with the 1D posteriors (confidence levels)\n",
    "for nam in my_names:\n",
    "    print(round(my_samples.confidence(nam, (1. - conf_level) / 2., upper=False), 2), \\\n",
    "          \" < \", nam, \" < \", round(my_samples.confidence(nam, (1. - conf_level) / 2., upper=True), 2), \\\n",
    "          \" at \", int(100 * conf_level), \"\\b% CL\")\n",
    "print(\"\\n\")\n",
    "\n",
    "j = plots.getSubplotPlotter(subplot_size=3)\n",
    "j.settings.axes_labelsize = 22\n",
    "j.settings.axes_fontsize = 16\n",
    "j.triangle_plot(my_samples, filled=True, title_limit=1)\n",
    "\n",
    "#Triangle corner plot\n",
    "j = plots.getSubplotPlotter(subplot_size=3)\n",
    "j.settings.axes_labelsize = 22\n",
    "j.settings.axes_fontsize = 16\n",
    "j.triangle_plot(my_samples, filled = True, title_limit=1)"
   ]
  },
  {
   "cell_type": "markdown",
   "metadata": {
    "id": "OAer6k-yngup"
   },
   "source": [
    "## <font color='deepskyblue'>Further Improvements</font>\n",
    "\n",
    "There are many ways in which you can improve your code and/or your data visualisation. Some ideas, in random order:\n",
    "\n",
    "* Modify your priors and compare your results. For instance:\n",
    "  * Change to log-flat priors for $h$ and/or $\\Omega_m$, namely displace them in log-space instead of linear space:\n",
    "  $$\n",
    "  \\log(h_{\\rm new}) = \\log(h_{\\rm old}) + \\delta\n",
    "  $$\n",
    "  where $\\delta$ a random variable of mean 0\n",
    "  * Use priors from other cosmological probes, for example the [Planck 2018 results](https://arxiv.org/abs/1807.06209):\n",
    "  $$\n",
    "  \\Omega_m = 0.315 \\pm 0.007\\,,~\\dots\n",
    "  $$\n",
    "* Monitor acceptance ratio and $\\chi^2$ as a function of step count\n",
    "* Implement a Gelman-Rubin (or alternative) convergence test  ==>useful if you don't know how many steps you should make. code will stop automatically is smth is reached\n",
    "* Change colours and other properties of your triangle plot\n",
    "* Re-plot the data with your theoretical fits: you can try both your best fit, and some $1\\sigma$ \"error bars\"\n",
    "* Split your data in redshift bins and repeat the analysis for each bin individually.\n",
    "<br> _(What do you notice? Which redshift bins give us the most accurate detection of the cosmological parameters?)_"
   ]
  }
 ],
 "metadata": {
  "colab": {
   "collapsed_sections": [
    "Hxy2SP9SXccN"
   ],
   "provenance": []
  },
  "kernelspec": {
   "display_name": "Python 3 (ipykernel)",
   "language": "python",
   "name": "python3"
  },
  "language_info": {
   "codemirror_mode": {
    "name": "ipython",
    "version": 3
   },
   "file_extension": ".py",
   "mimetype": "text/x-python",
   "name": "python",
   "nbconvert_exporter": "python",
   "pygments_lexer": "ipython3",
   "version": "3.12.2"
  }
 },
 "nbformat": 4,
 "nbformat_minor": 4
}
